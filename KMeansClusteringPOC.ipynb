{
  "nbformat": 4,
  "nbformat_minor": 0,
  "metadata": {
    "colab": {
      "name": "KMeansClusteringPOC.ipynb",
      "provenance": [],
      "collapsed_sections": [],
      "include_colab_link": true
    },
    "kernelspec": {
      "name": "python3",
      "display_name": "Python 3"
    },
    "accelerator": "GPU"
  },
  "cells": [
    {
      "cell_type": "markdown",
      "metadata": {
        "id": "view-in-github",
        "colab_type": "text"
      },
      "source": [
        "<a href=\"https://colab.research.google.com/github/abhranil-datascience/ClusteringPOC/blob/master/KMeansClusteringPOC.ipynb\" target=\"_parent\"><img src=\"https://colab.research.google.com/assets/colab-badge.svg\" alt=\"Open In Colab\"/></a>"
      ]
    },
    {
      "cell_type": "code",
      "metadata": {
        "id": "ea27j4OShonU",
        "colab_type": "code",
        "outputId": "685583a0-6d16-4410-dcd0-e9ac91a50ed0",
        "colab": {
          "base_uri": "https://localhost:8080/",
          "height": 183
        }
      },
      "source": [
        "############################## Mount Drive ######################################## \n",
        "from google.colab import drive\n",
        "drive.mount('/content/gdrive')\n",
        "############################## Change Directory ###################################\n",
        "import os\n",
        "os.chdir('/content/gdrive/My Drive/MLandDLFullCourse/ML/Clustering/KMeans')\n",
        "########## Suppress Warnings ############\n",
        "import warnings\n",
        "warnings.filterwarnings('ignore')\n",
        "########### Import Dataset #############\n",
        "import pandas as pd\n",
        "dataset=pd.read_csv('Mall_Customers.csv')\n",
        "CustomerDetails=dataset.iloc[:,1:5].values\n",
        "########## Categorical Variable ###############\n",
        "from sklearn.preprocessing import LabelEncoder\n",
        "LE=LabelEncoder()\n",
        "CustomerDetails[:,0]=LE.fit_transform(CustomerDetails[:,0])\n",
        "######### Scaling ###########\n",
        "from sklearn.preprocessing import StandardScaler\n",
        "sc_X=StandardScaler()\n",
        "XScaled=sc_X.fit_transform(CustomerDetails)\n",
        "######## Check VIF #############\n",
        "from statsmodels.stats.outliers_influence import variance_inflation_factor\n",
        "VIF=[0]*XScaled.shape[1]\n",
        "for col in range(0,XScaled.shape[1]):\n",
        "  VIF[col]=VIF[col]+variance_inflation_factor(exog=XScaled,exog_idx=col)#1.714708128168377, 2.290572901849767, 3.1722381380999853, 2.6588692167767225\n",
        "VIF"
      ],
      "execution_count": 0,
      "outputs": [
        {
          "output_type": "stream",
          "text": [
            "Go to this URL in a browser: https://accounts.google.com/o/oauth2/auth?client_id=947318989803-6bn6qk8qdgf4n4g3pfee6491hc0brc4i.apps.googleusercontent.com&redirect_uri=urn%3aietf%3awg%3aoauth%3a2.0%3aoob&response_type=code&scope=email%20https%3a%2f%2fwww.googleapis.com%2fauth%2fdocs.test%20https%3a%2f%2fwww.googleapis.com%2fauth%2fdrive%20https%3a%2f%2fwww.googleapis.com%2fauth%2fdrive.photos.readonly%20https%3a%2f%2fwww.googleapis.com%2fauth%2fpeopleapi.readonly\n",
            "\n",
            "Enter your authorization code:\n",
            "··········\n",
            "Mounted at /content/gdrive\n"
          ],
          "name": "stdout"
        },
        {
          "output_type": "execute_result",
          "data": {
            "text/plain": [
              "[1.0087105981036415,\n",
              " 1.1222952243366244,\n",
              " 1.0035184342476187,\n",
              " 1.1218386641105638]"
            ]
          },
          "metadata": {
            "tags": []
          },
          "execution_count": 1
        }
      ]
    },
    {
      "cell_type": "code",
      "metadata": {
        "id": "wWxlgr2KWZPU",
        "colab_type": "code",
        "outputId": "ba4e298f-90d2-47f5-b3af-0e590ae9b640",
        "colab": {
          "base_uri": "https://localhost:8080/",
          "height": 245
        }
      },
      "source": [
        "######### Cluster Selection ###############\n",
        "from sklearn.cluster import KMeans\n",
        "optimum_clusters=2#19\n",
        "best_sil_score=-1\n",
        "from sklearn.metrics import silhouette_score\n",
        "for clusters in range(2,XScaled.shape[0]-1):\n",
        "  cluster_KM=KMeans(n_clusters=clusters,init='k-means++',random_state=42)\n",
        "  label=cluster_KM.fit_predict(XScaled)\n",
        "  curr_sil_score=silhouette_score(X=XScaled,labels=label,random_state=42)\n",
        "  if curr_sil_score>best_sil_score:\n",
        "    print(\"New Optimum Number of Clusters: \"+str(clusters)+\" || Silhouette Score: \"+str(curr_sil_score))\n",
        "    best_sil_score=curr_sil_score\n",
        "    optimum_clusters=clusters"
      ],
      "execution_count": 0,
      "outputs": [
        {
          "output_type": "stream",
          "text": [
            "New Optimum Number of Clusters: 2 || Silhouette Score: 0.2518152915788437\n",
            "New Optimum Number of Clusters: 3 || Silhouette Score: 0.25951265087431563\n",
            "New Optimum Number of Clusters: 4 || Silhouette Score: 0.3016237438985174\n",
            "New Optimum Number of Clusters: 5 || Silhouette Score: 0.31709067955763137\n",
            "New Optimum Number of Clusters: 6 || Silhouette Score: 0.3336281031933481\n",
            "New Optimum Number of Clusters: 7 || Silhouette Score: 0.3573771582429211\n",
            "New Optimum Number of Clusters: 8 || Silhouette Score: 0.3873969164416463\n",
            "New Optimum Number of Clusters: 9 || Silhouette Score: 0.40225202468243715\n",
            "New Optimum Number of Clusters: 10 || Silhouette Score: 0.420342376994601\n",
            "New Optimum Number of Clusters: 11 || Silhouette Score: 0.4273168801169479\n",
            "New Optimum Number of Clusters: 13 || Silhouette Score: 0.42761474896919277\n",
            "New Optimum Number of Clusters: 14 || Silhouette Score: 0.4295952830224114\n",
            "New Optimum Number of Clusters: 17 || Silhouette Score: 0.43397100575299247\n",
            "New Optimum Number of Clusters: 19 || Silhouette Score: 0.44064756728117954\n"
          ],
          "name": "stdout"
        }
      ]
    },
    {
      "cell_type": "code",
      "metadata": {
        "colab_type": "code",
        "id": "1OnYSmfdSGX3",
        "outputId": "ffcb801d-2146-482d-e5cd-ba78083a0393",
        "colab": {
          "base_uri": "https://localhost:8080/",
          "height": 295
        }
      },
      "source": [
        "########## Plot WCSS #################\n",
        "wcss=[]\n",
        "for clstr_wcss in range(2,21):\n",
        "  kmeans=KMeans(n_clusters=clstr_wcss,init='k-means++',random_state=42)\n",
        "  kmeans.fit(XScaled)\n",
        "  wcss.append(kmeans.inertia_)\n",
        "import matplotlib.pyplot as plt\n",
        "plt.plot(range(2,21),wcss,c='blue')\n",
        "plt.xlabel('Number of Clusters')\n",
        "plt.ylabel('WCSS')"
      ],
      "execution_count": 0,
      "outputs": [
        {
          "output_type": "execute_result",
          "data": {
            "text/plain": [
              "Text(0, 0.5, 'WCSS')"
            ]
          },
          "metadata": {
            "tags": []
          },
          "execution_count": 3
        },
        {
          "output_type": "display_data",
          "data": {
            "image/png": "[encoded data removed]",
            "text/plain": [
              "<Figure size 432x288 with 1 Axes>"
            ]
          },
          "metadata": {
            "tags": []
          }
        }
      ]
    }
  ]
}