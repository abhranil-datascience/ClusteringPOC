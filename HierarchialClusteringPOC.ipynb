{
  "nbformat": 4,
  "nbformat_minor": 0,
  "metadata": {
    "colab": {
      "name": "HierarchialClusteringPOC.ipynb",
      "provenance": [],
      "collapsed_sections": [],
      "include_colab_link": true
    },
    "kernelspec": {
      "name": "python3",
      "display_name": "Python 3"
    },
    "accelerator": "GPU"
  },
  "cells": [
    {
      "cell_type": "markdown",
      "metadata": {
        "id": "view-in-github",
        "colab_type": "text"
      },
      "source": [
        "<a href=\"https://colab.research.google.com/github/abhranil-datascience/ClusteringPOC/blob/master/HierarchialClusteringPOC.ipynb\" target=\"_parent\"><img src=\"https://colab.research.google.com/assets/colab-badge.svg\" alt=\"Open In Colab\"/></a>"
      ]
    },
    {
      "cell_type": "code",
      "metadata": {
        "id": "ZbAac05Iby70",
        "colab_type": "code",
        "outputId": "cd8939c0-74d3-4087-c017-50a3dc8b88ef",
        "colab": {
          "base_uri": "https://localhost:8080/",
          "height": 183
        }
      },
      "source": [
        "############################## Mount Drive ######################################## \n",
        "from google.colab import drive\n",
        "drive.mount('/content/gdrive')\n",
        "############################## Change Directory ###################################\n",
        "import os\n",
        "os.chdir('/content/gdrive/My Drive/MLandDLFullCourse/ML/Clustering/HierarchialClustering')\n",
        "########## Suppress Warnings ############\n",
        "import warnings\n",
        "warnings.filterwarnings('ignore')\n",
        "########### Import Dataset #############\n",
        "import pandas as pd\n",
        "dataset=pd.read_csv('Mall_Customers.csv')\n",
        "CustomerDetails=dataset.iloc[:,1:5].values\n",
        "########## Categorical Variable ###############\n",
        "from sklearn.preprocessing import LabelEncoder\n",
        "LE=LabelEncoder()\n",
        "CustomerDetails[:,0]=LE.fit_transform(CustomerDetails[:,0])\n",
        "######### Scaling ###########\n",
        "from sklearn.preprocessing import StandardScaler\n",
        "sc_X=StandardScaler()\n",
        "XScaled=sc_X.fit_transform(CustomerDetails)\n",
        "######## Check VIF #############\n",
        "from statsmodels.stats.outliers_influence import variance_inflation_factor\n",
        "VIF=[0]*XScaled.shape[1]\n",
        "for col in range(0,XScaled.shape[1]):\n",
        "  VIF[col]=VIF[col]+variance_inflation_factor(exog=XScaled,exog_idx=col)#1.714708128168377, 2.290572901849767, 3.1722381380999853, 2.6588692167767225\n",
        "VIF"
      ],
      "execution_count": 0,
      "outputs": [
        {
          "output_type": "stream",
          "text": [
            "Go to this URL in a browser: https://accounts.google.com/o/oauth2/auth?client_id=947318989803-6bn6qk8qdgf4n4g3pfee6491hc0brc4i.apps.googleusercontent.com&redirect_uri=urn%3aietf%3awg%3aoauth%3a2.0%3aoob&response_type=code&scope=email%20https%3a%2f%2fwww.googleapis.com%2fauth%2fdocs.test%20https%3a%2f%2fwww.googleapis.com%2fauth%2fdrive%20https%3a%2f%2fwww.googleapis.com%2fauth%2fdrive.photos.readonly%20https%3a%2f%2fwww.googleapis.com%2fauth%2fpeopleapi.readonly\n",
            "\n",
            "Enter your authorization code:\n",
            "··········\n",
            "Mounted at /content/gdrive\n"
          ],
          "name": "stdout"
        },
        {
          "output_type": "execute_result",
          "data": {
            "text/plain": [
              "[1.0087105981036415,\n",
              " 1.1222952243366244,\n",
              " 1.0035184342476187,\n",
              " 1.1218386641105638]"
            ]
          },
          "metadata": {
            "tags": []
          },
          "execution_count": 1
        }
      ]
    },
    {
      "cell_type": "code",
      "metadata": {
        "id": "-xK3ZzWgC1FG",
        "colab_type": "code",
        "outputId": "236ec2cd-9a26-4f31-c010-36226558ab96",
        "colab": {
          "base_uri": "https://localhost:8080/",
          "height": 228
        }
      },
      "source": [
        "######### Cluster Selection ###############\n",
        "from sklearn.cluster import AgglomerativeClustering\n",
        "optimum_clusters=2#16\n",
        "best_sil_score=-1\n",
        "from sklearn.metrics import silhouette_score\n",
        "for clusters in range(2,XScaled.shape[0]-1):\n",
        "  cluster_AC=AgglomerativeClustering(n_clusters=clusters)\n",
        "  label=cluster_AC.fit_predict(XScaled)\n",
        "  curr_sil_score=silhouette_score(X=XScaled,labels=label,random_state=42)\n",
        "  if curr_sil_score>best_sil_score:\n",
        "    print(\"New Optimum Number of Clusters: \"+str(clusters)+\" || Silhouette Score: \"+str(curr_sil_score))\n",
        "    best_sil_score=curr_sil_score\n",
        "    optimum_clusters=clusters"
      ],
      "execution_count": 0,
      "outputs": [
        {
          "output_type": "stream",
          "text": [
            "New Optimum Number of Clusters: 2 || Silhouette Score: 0.24177953745462927\n",
            "New Optimum Number of Clusters: 3 || Silhouette Score: 0.24834537795671963\n",
            "New Optimum Number of Clusters: 4 || Silhouette Score: 0.2632260518820244\n",
            "New Optimum Number of Clusters: 5 || Silhouette Score: 0.28699413201651747\n",
            "New Optimum Number of Clusters: 6 || Silhouette Score: 0.3102445968526053\n",
            "New Optimum Number of Clusters: 7 || Silhouette Score: 0.34555782664693324\n",
            "New Optimum Number of Clusters: 8 || Silhouette Score: 0.3788796050129373\n",
            "New Optimum Number of Clusters: 9 || Silhouette Score: 0.39225805358687793\n",
            "New Optimum Number of Clusters: 10 || Silhouette Score: 0.4176254448686808\n",
            "New Optimum Number of Clusters: 11 || Silhouette Score: 0.42517748630372254\n",
            "New Optimum Number of Clusters: 14 || Silhouette Score: 0.4254321544952805\n",
            "New Optimum Number of Clusters: 15 || Silhouette Score: 0.4344600643875796\n",
            "New Optimum Number of Clusters: 16 || Silhouette Score: 0.43932320264453567\n"
          ],
          "name": "stdout"
        }
      ]
    },
    {
      "cell_type": "code",
      "metadata": {
        "id": "PfggwVvsce9J",
        "colab_type": "code",
        "outputId": "e4e8e33c-fcc4-4de6-977b-55102c64ad52",
        "colab": {
          "base_uri": "https://localhost:8080/",
          "height": 265
        }
      },
      "source": [
        "######### Dendogram ###################\n",
        "import scipy.cluster.hierarchy as sch\n",
        "Den=sch.dendrogram(sch.linkage(y=XScaled,method='ward'))"
      ],
      "execution_count": 0,
      "outputs": [
        {
          "output_type": "display_data",
          "data": {
            "image/png": "[encoded data removed]",
            "text/plain": [
              "<Figure size 432x288 with 1 Axes>"
            ]
          },
          "metadata": {
            "tags": []
          }
        }
      ]
    },
    {
      "cell_type": "code",
      "metadata": {
        "id": "hW2TXrDjcgif",
        "colab_type": "code",
        "colab": {}
      },
      "source": [
        "########## Apply Clustering ###################\n",
        "from sklearn.cluster import AgglomerativeClustering\n",
        "AC=AgglomerativeClustering(n_clusters=16)\n",
        "ClusterLabels=AC.fit_predict(XScaled)\n",
        "ClusterLabels=ClusterLabels.reshape(-1,1)\n",
        "import numpy as np\n",
        "ClusteredCustomers=np.hstack((CustomerDetails,ClusterLabels))\n",
        "np.savetxt(\"ClusteredCustomers.csv\",ClusteredCustomers,delimiter=\",\",fmt='%.6g')"
      ],
      "execution_count": 0,
      "outputs": []
    }
  ]
}